{
  "nbformat": 4,
  "nbformat_minor": 0,
  "metadata": {
    "colab": {
      "name": "Untitled0.ipynb",
      "version": "0.3.2",
      "provenance": [],
      "include_colab_link": true
    },
    "kernelspec": {
      "name": "python3",
      "display_name": "Python 3"
    }
  },
  "cells": [
    {
      "cell_type": "markdown",
      "metadata": {
        "id": "view-in-github",
        "colab_type": "text"
      },
      "source": [
        "[View in Colaboratory](https://colab.research.google.com/github/jbhambra/code-jbha/blob/master/predictMaleOrFemale.ipynb)"
      ]
    },
    {
      "metadata": {
        "id": "ms2xHM4LsGmb",
        "colab_type": "code",
        "colab": {
          "base_uri": "https://localhost:8080/",
          "height": 35
        },
        "outputId": "120cd494-21fa-4815-9aeb-96bdb5c4e09f"
      },
      "cell_type": "code",
      "source": [
        "from sklearn import tree\n",
        "\n",
        "X= [[128,80],[133,90],[180,80],[110,80]]\n",
        "Y = ['male', 'male', 'female', 'female']\n",
        "\n",
        "#defining a classifier\n",
        "clf = tree.DecisionTreeClassifier()\n",
        "\n",
        "clf = clf.fit(X,Y)\n",
        "\n",
        "#print(tree.export_graphviz(clf,None))\n",
        "\n",
        "prediction = clf.predict([[183,76]])\n",
        "\n",
        "print(prediction)\n",
        "\n"
      ],
      "execution_count": 20,
      "outputs": [
        {
          "output_type": "stream",
          "text": [
            "['female']\n"
          ],
          "name": "stdout"
        }
      ]
    }
  ]
}